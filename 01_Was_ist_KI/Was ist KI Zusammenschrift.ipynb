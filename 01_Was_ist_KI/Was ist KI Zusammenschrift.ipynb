{
 "cells": [
  {
   "cell_type": "markdown",
   "metadata": {},
   "source": [
    "# Einführung in die künstliche Intelligenz\n",
    "\n",
    "Spätestens seit der Veröffentlichung von ChatGPT im Jahr 2022 ist der Begriff „Künstliche Intelligenz“ verstärkt in den Fokus der öffentlichen Aufmerksamkeit gerückt. In Medien, Unternehmen und im Alltag wird KI als Schlüsseltechnologie gehandelt, die Wirtschaft, Bildung, Gesundheitswesen und viele weitere Bereiche grundlegend verändern könnte. Oft entsteht dabei der Eindruck, KI sei eine völlig neue Errungenschaft. Tatsächlich jedoch reichen die Ursprünge der KI-Forschung bis in die 1950er-Jahre zurück. Schon damals beschäftigten sich Wissenschaftler mit der Frage, wie man Maschinen zu intelligentem Verhalten befähigen kann. Die technologische Grundlage hat sich seither stetig weiterentwickelt – von symbolischen Systemen über maschinelles Lernen bis hin zu heutigen neuronalen Netzen.\n",
    "\n",
    "Doch was genau ist Künstliche Intelligenz?\n",
    "\n",
    "# Was ist die KI?\n",
    "\n",
    "Der Begriff „Künstliche Intelligenz“ (KI) bezeichnet den Versuch, Maschinen mit Fähigkeiten auszustatten, die typischerweise menschlicher Intelligenz zugeschrieben werden. Dazu gehören das Verstehen von Sprache, Lernen aus Erfahrung, Problemlösen, Planen, Wahrnehmen der Umwelt und in bestimmten Fällen sogar kreatives Handeln. In der Fachliteratur existieren unterschiedliche Definitionen, die sich je nach Perspektive auf KI – etwa technisch, psychologisch oder philosophisch – unterscheiden.\n",
    "\n",
    "John McCarthy, einer der Gründerväter der KI, definierte 1956 KI als „die Wissenschaft und Technik, intelligente Maschinen zu bauen, insbesondere intelligente Computerprogramme“ [McCarthy, 1956]. Patrick Winston beschreibt sie 1992 als „die Untersuchung von Berechnungsverfahren, die es ermöglichen, wahrzunehmen, zu denken und zu handeln“ [Winston, 1992]. Die Wikipedia (Stand 2025) bezeichnet Künstliche Intelligenz als „ein Teilgebiet der Informatik, das sich mit der Automatisierung intelligenten Verhaltens und dem maschinellen Lernen befasst“ [Wikipedia, 2025].\n",
    "\n",
    "Ein zentrales Merkmal von KI ist, dass sie nicht an eine bestimmte Technologie oder Methode gebunden ist. Vielmehr umfasst der Begriff ein breites Spektrum von symbolischen, statistischen und neuronalen Verfahren. Was jeweils als KI gilt, ist zudem zeit- und kontextabhängig: Systeme, die einst als intelligent galten – wie etwa symbolische Rechenprogramme – werden heute oft als gewöhnliche Software angesehen.\n",
    "\n",
    "Künstliche Intelligenz ist daher kein statisches Konzept, sondern ein dynamisches Forschungsfeld, das sich stetig weiterentwickelt. Ihr Ziel ist es, Maschinen zu bauen, die in der Lage sind, flexibel, adaptiv und möglichst menschenähnlich mit ihrer Umgebung zu interagieren.\n",
    "\n",
    "Quellen:\n",
    "McCarthy, J. (1956): Proposal for the Dartmouth Summer Research Project on Artificial Intelligence.\n",
    "Winston, P. (1992): Artificial Intelligence. 3rd ed., Addison-Wesley.\n",
    "Wikipedia (2025): „Künstliche Intelligenz“, https://de.wikipedia.org/wiki/Künstliche_Intelligenz\n",
    "\n",
    "# Arten der KI \n",
    "\n",
    "Künstliche Intelligenz lässt sich auf mehreren Ebenen klassifizieren – je nach Zielsetzung, Komplexität und Flexibilität des Systems. Eine gängige Unterscheidung erfolgt entlang des Spektrums von „schwacher“ bis „starker“ KI. Technisch differenziert man insbesondere zwischen drei Haupttypen:\n",
    "\n",
    "1. Artificial Narrow Intelligence (ANI)\n",
    "\n",
    "Die heute existierenden KI-Systeme gehören fast ausschließlich zur Kategorie der schwachen oder spezialisierten KI (ANI). Sie sind darauf ausgelegt, konkrete Aufgaben in eng definierten Anwendungsfeldern zu erfüllen – z. B. Spracherkennung, Bilderkennung, maschinelle Übersetzung oder Produktempfehlungen. Trotz ihrer Leistungsfähigkeit agieren ANI-Systeme immer innerhalb vorgegebener Grenzen und verfügen über kein „Verständnis“ im menschlichen Sinn. Klassische Beispiele sind Spamfilter, Chatbots oder Systeme zur medizinischen Bildanalyse.\n",
    "\n",
    "2. Artificial General Intelligence (AGI)\n",
    "\n",
    "Die sogenannte starke KI bezeichnet eine hypothetische Form künstlicher Intelligenz, die in der Lage wäre, flexibel in verschiedensten Kontexten zu denken, zu lernen und zu handeln – ähnlich einem menschlichen Geist. Eine AGI könnte Wissen aus einem Bereich auf völlig andere übertragen, kreativ neue Lösungen entwickeln und eigene Ziele verfolgen. Der Stand der Forschung ist hier rein experimentell: Es gibt bisher kein System, das als AGI anerkannt werden kann.\n",
    "\n",
    "3. Artificial Super Intelligence (ASI)\n",
    "\n",
    "Ein weiterer theoretischer Schritt über AGI hinaus ist die Superintelligenz – eine Form von KI, die den Menschen in nahezu allen kognitiven Bereichen übertreffen würde. In der Literatur wird sie oft mit Chancen (z. B. wissenschaftliche Durchbrüche) und Risiken (z. B. Kontrollverlust) diskutiert. Technisch ist ASI derzeit rein spekulativ und Gegenstand ethisch-philosophischer Debatten, nicht aber praktischer Entwicklung."
   ]
  },
  {
   "cell_type": "markdown",
   "metadata": {},
   "source": []
  }
 ],
 "metadata": {
  "language_info": {
   "name": "python"
  }
 },
 "nbformat": 4,
 "nbformat_minor": 2
}
